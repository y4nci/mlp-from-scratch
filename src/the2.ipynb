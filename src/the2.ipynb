{
 "cells": [
  {
   "cell_type": "code",
   "execution_count": 5,
   "metadata": {},
   "outputs": [],
   "source": [
    "from cergen import gergen, rastgele_dogal, rastgele_gercek, Operation\n",
    "from typing import Literal, Optional, Union\n",
    "\n",
    "import math\n",
    "import pandas as pd"
   ]
  },
  {
   "cell_type": "code",
   "execution_count": 6,
   "metadata": {},
   "outputs": [],
   "source": [
    "\"\"\"\n",
    "TYPE ALIASES & CONSTANTS\n",
    "\"\"\"\n",
    "\n",
    "ActivationType = Literal['softmax', 'relu']"
   ]
  },
  {
   "cell_type": "code",
   "execution_count": 7,
   "metadata": {},
   "outputs": [],
   "source": [
    "def ReLU(x: Union[float, int]) -> Union[float, int]:\n",
    "    return max(0, x)\n",
    "\n",
    "def softmax(x: list[Union[float, int]], i: int) -> float:\n",
    "    return math.exp(x[i]) / sum(math.exp(xi) for xi in x)"
   ]
  },
  {
   "cell_type": "code",
   "execution_count": 21,
   "metadata": {},
   "outputs": [],
   "source": [
    "class ForwardPass(Operation):\n",
    "    def ileri(self, x: gergen, W: gergen, b: gergen) -> gergen:\n",
    "        \"\"\"\n",
    "        The forward pass of a layer, which computes the output of the layer given the input x, weights W, and biases b.\n",
    "        \"\"\"\n",
    "        return W.ic_carpim(x) + b\n",
    "\n",
    "\n",
    "class Katman:\n",
    "    x: gergen = None\n",
    "\n",
    "    W: gergen = None\n",
    "\n",
    "    b: gergen = None\n",
    "\n",
    "    outputs: gergen = None\n",
    "\n",
    "    activation: str = None\n",
    "    \n",
    "    forward_pass = ForwardPass()\n",
    "\n",
    "    def __init__(self, input_size: int, output_size: int, activation: Optional[ActivationType] = None):\n",
    "        \"\"\"\n",
    "        With the given input and output sizes, the layer’s weighs and biases are initialised with appropriate shapes using the rastgele_gercek() function.\n",
    "        \"\"\"\n",
    "        \n",
    "        self.x = rastgele_gercek((input_size, 1))\n",
    "        self.W = rastgele_gercek((output_size, input_size))\n",
    "        self.b = rastgele_gercek((output_size, 1))\n",
    "        self.activation = activation\n",
    "\n",
    "        self.outputs = self.calculate_forward()\n",
    "\n",
    "    def calculate_forward(self):\n",
    "        \"\"\"\n",
    "        The forward method computes and returns the output of the layer given the input x, weights W, and biases b.\n",
    "        \"\"\"\n",
    "        raw_forward_pass: gergen = self.forward_pass(self.x, self.W, self.b)\n",
    "\n",
    "        if self.activation == 'relu':\n",
    "            return raw_forward_pass.map(ReLU)\n",
    "\n",
    "        elif self.activation == 'softmax':\n",
    "            return raw_forward_pass.map(softmax)\n",
    "\n",
    "        else:\n",
    "            return raw_forward_pass\n"
   ]
  },
  {
   "cell_type": "code",
   "execution_count": null,
   "metadata": {},
   "outputs": [],
   "source": []
  }
 ],
 "metadata": {
  "kernelspec": {
   "display_name": "Python 3",
   "language": "python",
   "name": "python3"
  },
  "language_info": {
   "codemirror_mode": {
    "name": "ipython",
    "version": 3
   },
   "file_extension": ".py",
   "mimetype": "text/x-python",
   "name": "python",
   "nbconvert_exporter": "python",
   "pygments_lexer": "ipython3",
   "version": "3.11.8"
  }
 },
 "nbformat": 4,
 "nbformat_minor": 2
}
